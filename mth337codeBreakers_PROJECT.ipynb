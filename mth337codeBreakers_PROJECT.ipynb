{
 "cells": [
  {
   "cell_type": "code",
   "execution_count": 1,
   "id": "7039fed5",
   "metadata": {},
   "outputs": [],
   "source": [
    "import numpy as np"
   ]
  },
  {
   "cell_type": "code",
   "execution_count": 2,
   "id": "4ef6a8f3",
   "metadata": {},
   "outputs": [],
   "source": [
    "def strToAC(msg):                     # converts a string into ascii list\n",
    "    acList = [ord(s) for s in msg]    # loops through and calls ord() on every string slice, converts to list of ascii\n",
    "    return acList                     # returns ascii list"
   ]
  },
  {
   "cell_type": "code",
   "execution_count": 3,
   "id": "bd24a21e",
   "metadata": {},
   "outputs": [],
   "source": [
    "def encode(acList, key):             # takes a list of ascii characters and encodes it with key\n",
    "    \n",
    "    count = len(acList)              # basic arithmetic to help calculate        \n",
    "    keyLen = len(key)\n",
    "    n = count // keyLen\n",
    "    m = count % keyLen\n",
    "    nKey = key * n                           #nKey takes the original key and multiples it by the floor division to make longer\n",
    "    \n",
    "    for i in range(m):                        #padding by adding modulate of m\n",
    "        nKey += key[i]\n",
    "        \n",
    "    encodedMsg = [((a + ord(nk)) % 128) for a,nk in zip(acList, nKey)]    #encryption loops through every ascii and adds key\n",
    "                                                                           # slice then mods it by 128\n",
    "    return encodedMsg                # returns encoded msg"
   ]
  },
  {
   "cell_type": "code",
   "execution_count": 4,
   "id": "72058a13",
   "metadata": {},
   "outputs": [
    {
     "name": "stdout",
     "output_type": "stream",
     "text": [
      "[104, 101, 108, 108, 111, 98, 105, 110, 103, 98, 117, 102, 102, 97, 108, 111, 32, 98, 117, 100, 102, 97, 100, 111]\n"
     ]
    }
   ],
   "source": [
    "msgList = strToAC('hellobingbuffalo budfado')           # example of function strToAC\n",
    "print(msgList)                                  # ascii of 'hellobingbuffalo budfado'"
   ]
  },
  {
   "cell_type": "code",
   "execution_count": 5,
   "id": "c17f7a89",
   "metadata": {},
   "outputs": [
    {
     "name": "stdout",
     "output_type": "stream",
     "text": [
      "[76, 84, 80, 91, 83, 81, 77, 93, 75, 81, 89, 85, 74, 80, 80, 94, 4, 81, 89, 83, 74, 80, 72, 94]\n"
     ]
    }
   ],
   "source": [
    "encTest = encode(msgList, 'dodo')            # encrypts it with string 'dodo'\n",
    "print(encTest)"
   ]
  },
  {
   "cell_type": "code",
   "execution_count": 6,
   "id": "3d0c7d21",
   "metadata": {},
   "outputs": [],
   "source": [
    "def decrypt(acList, key):                     # takes a encrypted list of ascii characters and decrypts it with key\n",
    "    \n",
    "    count = len(acList)                       # basic arithmetic to help calculate \n",
    "    keyLen = len(key)\n",
    "    n = count // keyLen\n",
    "    m = count % keyLen\n",
    "    nKey = key * n                            #nKey takes the original key and multiples it by the floor division to make longer\n",
    "    for i in range(m):                        # padding by adding modulate of m\n",
    "        nKey += key[i]\n",
    "    \n",
    "    \n",
    "    decodedMsg = [chr(((ac - ord(nk)) % 128)) for ac,nk in zip(acList, nKey)]        # decryption\n",
    "    dec = ''.join(decodedMsg)                                                        # combines decoded msg\n",
    "    \n",
    "    return dec                                                                       # returns decoded msg"
   ]
  },
  {
   "cell_type": "code",
   "execution_count": 7,
   "id": "6a90b4f1",
   "metadata": {},
   "outputs": [
    {
     "data": {
      "text/plain": [
       "'hellobingbuffalo budfado'"
      ]
     },
     "execution_count": 7,
     "metadata": {},
     "output_type": "execute_result"
    }
   ],
   "source": [
    "decTest = decrypt(encTest, 'dodo')      # decrypts msg with string 'dodo'\n",
    "decTest"
   ]
  },
  {
   "cell_type": "code",
   "execution_count": 8,
   "id": "508878f3",
   "metadata": {},
   "outputs": [],
   "source": [
    "import requests"
   ]
  },
  {
   "cell_type": "code",
   "execution_count": 9,
   "id": "5533fbaa",
   "metadata": {},
   "outputs": [],
   "source": [
    "# read dictionary\n",
    "\n",
    "dictionary = requests.get('https://raw.githubusercontent.com/en-wl/wordlist/master/alt12dicts/5desk.txt', 'r')\n",
    "d = dictionary.text.split()              # splits dictionary to make it a list of strings\n",
    "\n",
    "# opens and reads ahau.txt, gives ascii numbers \n",
    "with open('ahau.txt', 'r') as f:\n",
    "    s = f.read()\n",
    "    f.close()\n",
    "\n",
    "strList = s.split()      # splits the txt file into list of string asciis\n",
    "acList = [int(i) for i in strList]"
   ]
  },
  {
   "cell_type": "code",
   "execution_count": 10,
   "id": "7ba6de94",
   "metadata": {},
   "outputs": [],
   "source": [
    "def findKey():\n",
    "    \n",
    "    newList = [0]                        # initialize a starting count that will be changed every time the below is satisfied\n",
    "    newWord = ['initial']                # initialize a starting word that will be changed every time the below is satisfied\n",
    "    \n",
    "    for word in d:\n",
    "        \n",
    "        # calls decrypt on acList and every word in dict and splits it by space since we know its a text\n",
    "        # then makes it into a set and calls the\n",
    "        # intersection of that and set(d) to find how\n",
    "        # many of same words they share\n",
    "        decryptList = list(set(decrypt(acList, word).split()).intersection(d)) \n",
    "\n",
    "        \n",
    "        if len(decryptList) > newList[0]:       # if the amount of intersections is greater than the amount in newList[0]\n",
    "            newList[0] = len(decryptList)       # makes that into new count in newList[0]\n",
    "            newWord[0] = word                   # stores the word in newWord[0]\n",
    "        \n",
    "\n",
    "    return newWord[0]         # returns word stored in newWord[0] after looping through whole dictionary"
   ]
  },
  {
   "cell_type": "code",
   "execution_count": 11,
   "id": "b755a9fc",
   "metadata": {},
   "outputs": [
    {
     "data": {
      "text/plain": [
       "'Socrates'"
      ]
     },
     "execution_count": 11,
     "metadata": {},
     "output_type": "execute_result"
    }
   ],
   "source": [
    "findKey()                   # FINDS key"
   ]
  },
  {
   "cell_type": "code",
   "execution_count": 12,
   "id": "eb9e1bb0",
   "metadata": {},
   "outputs": [
    {
     "data": {
      "text/plain": [
       "'\\nSome one may wonder why I go about in private giving advice and busying\\nmyself with the concerns of others, but do not venture to come forward\\nin public and advise the state. I will tell you why. You have heard me\\nspeak at sundry times and in divers places of an oracle or sign\\nwhich comes to me, and is the divinity which Meletus ridicules in the\\nindictment. This sign, which is a kind of voice, first began to come\\nto me when I was a child; it always forbids but never commands me to\\ndo anything which I am going to do. This is what deters me from being a\\npolitician. And rightly, as I think. For I am certain, O men of Athens,\\nthat if I had engaged in politics, I should have perished long ago, and\\ndone no good either to you or to myself. And do not be offended at my\\ntelling you the truth: for the truth is, that no man who goes to war\\nwith you or any other multitude, honestly striving against the many\\nlawless and unrighteous deeds which are done in a state, will save his\\nlife; he who will fight for the right, if he would live even for a brief\\nspace, must have a private station and not a public one.\\n\\n'"
      ]
     },
     "execution_count": 12,
     "metadata": {},
     "output_type": "execute_result"
    }
   ],
   "source": [
    "dec = decrypt(acList, 'Socrates')        # decrypts list of ascii in ahau.txt with the key Socrates\n",
    "dec"
   ]
  },
  {
   "cell_type": "code",
   "execution_count": null,
   "id": "75a04871",
   "metadata": {},
   "outputs": [],
   "source": []
  },
  {
   "cell_type": "code",
   "execution_count": null,
   "id": "03e617b8",
   "metadata": {},
   "outputs": [],
   "source": []
  },
  {
   "cell_type": "code",
   "execution_count": null,
   "id": "42e4d23a",
   "metadata": {},
   "outputs": [],
   "source": []
  },
  {
   "cell_type": "code",
   "execution_count": null,
   "id": "acc83151",
   "metadata": {},
   "outputs": [],
   "source": []
  }
 ],
 "metadata": {
  "kernelspec": {
   "display_name": "Python 3 (ipykernel)",
   "language": "python",
   "name": "python3"
  },
  "language_info": {
   "codemirror_mode": {
    "name": "ipython",
    "version": 3
   },
   "file_extension": ".py",
   "mimetype": "text/x-python",
   "name": "python",
   "nbconvert_exporter": "python",
   "pygments_lexer": "ipython3",
   "version": "3.9.7"
  }
 },
 "nbformat": 4,
 "nbformat_minor": 5
}
